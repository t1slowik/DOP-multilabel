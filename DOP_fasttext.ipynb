{
 "cells": [
  {
   "cell_type": "markdown",
   "metadata": {},
   "source": [
    "# rozpoznawanie typów zgłoszeń DOP"
   ]
  },
  {
   "cell_type": "code",
   "execution_count": 1,
   "metadata": {},
   "outputs": [],
   "source": [
    "import sys, os, re, time\n",
    "import pandas as pd\n",
    "import numpy as np\n",
    "#import seaborn as sn\n",
    "import matplotlib.pyplot as plt\n",
    "\n",
    "# import random\n",
    "# from sklearn.feature_extraction.text import TfidfVectorizer\n",
    "# from sklearn.feature_selection import SelectKBest\n",
    "# from sklearn.feature_selection import f_classif\n",
    "# from sklearn.utils import shuffle\n",
    "from sklearn.model_selection import train_test_split\n",
    "from sklearn import metrics\n",
    "from sklearn.preprocessing import MultiLabelBinarizer\n",
    "from sklearn.multiclass import OneVsRestClassifier\n",
    "from sklearn.metrics import hamming_loss\n",
    "from sklearn.model_selection import KFold\n",
    "\n",
    "#from imblearn.over_sampling import RandomOverSampler\n",
    "\n",
    "import fastText\n",
    "\n"
   ]
  },
  {
   "cell_type": "code",
   "execution_count": null,
   "metadata": {},
   "outputs": [],
   "source": []
  },
  {
   "cell_type": "markdown",
   "metadata": {},
   "source": [
    "## przygotowanie danych uczących"
   ]
  },
  {
   "cell_type": "code",
   "execution_count": 2,
   "metadata": {
    "scrolled": false
   },
   "outputs": [],
   "source": [
    "datapath='/mnt/c/dev/DOP-categories/'\n",
    "datafile='Cases categorization.xlsx'\n",
    "dane_surowe=pd.read_excel(os.path.join(datapath,datafile))\n"
   ]
  },
  {
   "cell_type": "code",
   "execution_count": 3,
   "metadata": {},
   "outputs": [],
   "source": [
    "#dane_surowe.info()"
   ]
  },
  {
   "cell_type": "code",
   "execution_count": 4,
   "metadata": {},
   "outputs": [
    {
     "data": {
      "text/plain": [
       "Index(['casenumber', 'jira', 'contactemail', 'origin', 'status', '_type',\n",
       "       'record_name', 'record_desc', 'createddate', 'lastmodifieddate',\n",
       "       'closeddate', 'moneyrefund', 'owner_name', 'lastmod_name', 'case_desc',\n",
       "       'tags'],\n",
       "      dtype='object')"
      ]
     },
     "execution_count": 4,
     "metadata": {},
     "output_type": "execute_result"
    }
   ],
   "source": [
    "dane_surowe.columns"
   ]
  },
  {
   "cell_type": "code",
   "execution_count": 5,
   "metadata": {},
   "outputs": [],
   "source": [
    "input_data=pd.DataFrame()\n",
    "input_data[['content','category']]=dane_surowe[['case_desc','tags']]"
   ]
  },
  {
   "cell_type": "code",
   "execution_count": null,
   "metadata": {},
   "outputs": [],
   "source": []
  },
  {
   "cell_type": "code",
   "execution_count": 6,
   "metadata": {},
   "outputs": [
    {
     "data": {
      "text/html": [
       "<div>\n",
       "<style scoped>\n",
       "    .dataframe tbody tr th:only-of-type {\n",
       "        vertical-align: middle;\n",
       "    }\n",
       "\n",
       "    .dataframe tbody tr th {\n",
       "        vertical-align: top;\n",
       "    }\n",
       "\n",
       "    .dataframe thead th {\n",
       "        text-align: right;\n",
       "    }\n",
       "</style>\n",
       "<table border=\"1\" class=\"dataframe\">\n",
       "  <thead>\n",
       "    <tr style=\"text-align: right;\">\n",
       "      <th></th>\n",
       "      <th>content</th>\n",
       "      <th>category</th>\n",
       "    </tr>\n",
       "  </thead>\n",
       "  <tbody>\n",
       "    <tr>\n",
       "      <th>0</th>\n",
       "      <td>Problem z wyświetlaniem informacji w FAQ -  w ...</td>\n",
       "      <td>FAQ; wrong copy;</td>\n",
       "    </tr>\n",
       "    <tr>\n",
       "      <th>1</th>\n",
       "      <td>W żadnej z kategorii nie ma sekcji 'najczęstsz...</td>\n",
       "      <td>FAQ; content categorization;</td>\n",
       "    </tr>\n",
       "    <tr>\n",
       "      <th>2</th>\n",
       "      <td>moje konto&gt; mój plan &gt; szczegóły oferty aplika...</td>\n",
       "      <td>app crashes</td>\n",
       "    </tr>\n",
       "    <tr>\n",
       "      <th>3</th>\n",
       "      <td>Klient zgłsza problem z wyborem numerów. Przy ...</td>\n",
       "      <td>UX</td>\n",
       "    </tr>\n",
       "    <tr>\n",
       "      <th>4</th>\n",
       "      <td>Klienta nie może p.rzejść przez weryfikację nu...</td>\n",
       "      <td>OTP</td>\n",
       "    </tr>\n",
       "  </tbody>\n",
       "</table>\n",
       "</div>"
      ],
      "text/plain": [
       "                                             content  \\\n",
       "0  Problem z wyświetlaniem informacji w FAQ -  w ...   \n",
       "1  W żadnej z kategorii nie ma sekcji 'najczęstsz...   \n",
       "2  moje konto> mój plan > szczegóły oferty aplika...   \n",
       "3  Klient zgłsza problem z wyborem numerów. Przy ...   \n",
       "4  Klienta nie może p.rzejść przez weryfikację nu...   \n",
       "\n",
       "                       category  \n",
       "0              FAQ; wrong copy;  \n",
       "1  FAQ; content categorization;  \n",
       "2                   app crashes  \n",
       "3                            UX  \n",
       "4                           OTP  "
      ]
     },
     "execution_count": 6,
     "metadata": {},
     "output_type": "execute_result"
    }
   ],
   "source": [
    "input_data.head()"
   ]
  },
  {
   "cell_type": "code",
   "execution_count": 8,
   "metadata": {},
   "outputs": [],
   "source": [
    "# clearing data\n",
    "# remove duplicates\n",
    "input_data.drop_duplicates(inplace=True)\n",
    "# remove empty\n",
    "input_data=input_data.dropna()"
   ]
  },
  {
   "cell_type": "code",
   "execution_count": 9,
   "metadata": {},
   "outputs": [
    {
     "data": {
      "text/html": [
       "<div>\n",
       "<style scoped>\n",
       "    .dataframe tbody tr th:only-of-type {\n",
       "        vertical-align: middle;\n",
       "    }\n",
       "\n",
       "    .dataframe tbody tr th {\n",
       "        vertical-align: top;\n",
       "    }\n",
       "\n",
       "    .dataframe thead th {\n",
       "        text-align: right;\n",
       "    }\n",
       "</style>\n",
       "<table border=\"1\" class=\"dataframe\">\n",
       "  <thead>\n",
       "    <tr style=\"text-align: right;\">\n",
       "      <th></th>\n",
       "      <th>content</th>\n",
       "      <th>category</th>\n",
       "    </tr>\n",
       "  </thead>\n",
       "  <tbody>\n",
       "  </tbody>\n",
       "</table>\n",
       "</div>"
      ],
      "text/plain": [
       "Empty DataFrame\n",
       "Columns: [content, category]\n",
       "Index: []"
      ]
     },
     "execution_count": 9,
     "metadata": {},
     "output_type": "execute_result"
    }
   ],
   "source": [
    "# find duplicates\n",
    "input_data[input_data.duplicated(keep=False)]"
   ]
  },
  {
   "cell_type": "markdown",
   "metadata": {},
   "source": [
    "## label freq analysis & selection"
   ]
  },
  {
   "cell_type": "code",
   "execution_count": 10,
   "metadata": {},
   "outputs": [],
   "source": [
    "def parse_labels(raw_labels):\n",
    "    label_list=raw_labels.split(';')\n",
    "    label_list=[x.strip().replace(' ','_') for x in label_list if x != '']\n",
    "    return label_list\n"
   ]
  },
  {
   "cell_type": "code",
   "execution_count": 11,
   "metadata": {},
   "outputs": [],
   "source": [
    "label_lists=input_data['category'].apply(parse_labels)"
   ]
  },
  {
   "cell_type": "code",
   "execution_count": 12,
   "metadata": {},
   "outputs": [
    {
     "data": {
      "text/plain": [
       "0                [FAQ, wrong_copy]\n",
       "1    [FAQ, content_categorization]\n",
       "2                    [app_crashes]\n",
       "3                             [UX]\n",
       "4                            [OTP]\n",
       "Name: category, dtype: object"
      ]
     },
     "execution_count": 12,
     "metadata": {},
     "output_type": "execute_result"
    }
   ],
   "source": [
    "label_lists.head()"
   ]
  },
  {
   "cell_type": "code",
   "execution_count": 13,
   "metadata": {},
   "outputs": [],
   "source": [
    "from itertools import chain\n",
    "from collections import Counter\n",
    "label_count=Counter(chain.from_iterable(label_lists.values))"
   ]
  },
  {
   "cell_type": "code",
   "execution_count": 14,
   "metadata": {},
   "outputs": [
    {
     "data": {
      "text/plain": [
       "<BarContainer object of 112 artists>"
      ]
     },
     "execution_count": 14,
     "metadata": {},
     "output_type": "execute_result"
    },
    {
     "data": {
      "image/png": "[encoded data removed]",
      "text/plain": [
       "<Figure size 432x288 with 1 Axes>"
      ]
     },
     "metadata": {
      "needs_background": "light"
     },
     "output_type": "display_data"
    }
   ],
   "source": [
    "plt.barh(list(label_count.keys()),list(label_count.values()))"
   ]
  },
  {
   "cell_type": "code",
   "execution_count": 15,
   "metadata": {},
   "outputs": [],
   "source": [
    "min_label_freq=5  # minimum occurencies to be used in \n",
    "pruned_label_count = {key:value for (key,value) in label_count.items() if value>=min_label_freq}"
   ]
  },
  {
   "cell_type": "code",
   "execution_count": 16,
   "metadata": {},
   "outputs": [
    {
     "data": {
      "text/plain": [
       "<BarContainer object of 27 artists>"
      ]
     },
     "execution_count": 16,
     "metadata": {},
     "output_type": "execute_result"
    },
    {
     "data": {
      "image/png": "[encoded data removed]",
      "text/plain": [
       "<Figure size 432x288 with 1 Axes>"
      ]
     },
     "metadata": {
      "needs_background": "light"
     },
     "output_type": "display_data"
    }
   ],
   "source": [
    "plt.barh(list(pruned_label_count.keys()),list(pruned_label_count.values()))"
   ]
  },
  {
   "cell_type": "code",
   "execution_count": 17,
   "metadata": {},
   "outputs": [],
   "source": [
    "interesting_labels=list(pruned_label_count.keys())\n",
    "pd.Series(interesting_labels).to_csv(os.path.join(datapath,'interesting_labels.csv'),header=['label'],index=False)\n"
   ]
  },
  {
   "cell_type": "markdown",
   "metadata": {},
   "source": [
    "## preprocessing"
   ]
  },
  {
   "cell_type": "markdown",
   "metadata": {},
   "source": [
    "### preprocessing content text"
   ]
  },
  {
   "cell_type": "code",
   "execution_count": 18,
   "metadata": {},
   "outputs": [],
   "source": [
    "# Słownik synonimów / podmian\n",
    "\n",
    "podmiany=pd.read_excel(os.path.join(datapath,'preproc_dict.xlsx'))"
   ]
  },
  {
   "cell_type": "code",
   "execution_count": 19,
   "metadata": {},
   "outputs": [],
   "source": [
    "def preprocess_texts(raw_texts,replacements):\n",
    "    \"\"\"\n",
    "    texts: np.Series containing strings to be preprocessed\n",
    "    replacements: pairs of what convert to what\n",
    "    return np.Series with corrected texts\n",
    "    \"\"\"\n",
    "    resulttext=raw_texts.str.lower()\n",
    "    for [co,naco,_] in replacements.values:\n",
    "        resulttext=resulttext.str.replace(re.compile(str(co)),str(naco))\n",
    "    return resulttext\n"
   ]
  },
  {
   "cell_type": "code",
   "execution_count": 20,
   "metadata": {},
   "outputs": [],
   "source": [
    "prep_texts=preprocess_texts(input_data['content'],podmiany)"
   ]
  },
  {
   "cell_type": "code",
   "execution_count": 21,
   "metadata": {},
   "outputs": [
    {
     "data": {
      "text/plain": [
       "'problem z wyświetlaniem informacji w faq w kategorii faq ogólne pierwszy artykuł ma tytuł tytuł dokumentu i treść przykładowy konwent dokumentu login _email msisdn _phonenumber numer zamówienia _number wystąpiło _number _number _number _number _number jira dsd _number'"
      ]
     },
     "execution_count": 21,
     "metadata": {},
     "output_type": "execute_result"
    }
   ],
   "source": [
    "prep_texts[0]"
   ]
  },
  {
   "cell_type": "markdown",
   "metadata": {},
   "source": [
    "### preprocessing labels"
   ]
  },
  {
   "cell_type": "code",
   "execution_count": 22,
   "metadata": {},
   "outputs": [],
   "source": [
    "interesting_labels=pd.read_csv(os.path.join(datapath,'interesting_labels.csv'))"
   ]
  },
  {
   "cell_type": "code",
   "execution_count": 23,
   "metadata": {},
   "outputs": [],
   "source": [
    "def preprocess_labels(raw_labels, interesting_labels):\n",
    "    result_labels=raw_labels.split(';')  # split on ';'\n",
    "    # remove leading space and replace spaces inside to underscore\n",
    "    result_labels=[x.strip().replace(' ','_') for x in result_labels]\n",
    "    #remove not interesting labels\n",
    "    result_labels=[x for x in result_labels if x in interesting_labels]\n",
    "    return result_labels"
   ]
  },
  {
   "cell_type": "code",
   "execution_count": 24,
   "metadata": {},
   "outputs": [],
   "source": [
    "\n",
    "prep_labels=input_data['category'].apply(preprocess_labels, args=(interesting_labels.values,))"
   ]
  },
  {
   "cell_type": "code",
   "execution_count": 25,
   "metadata": {},
   "outputs": [
    {
     "data": {
      "text/plain": [
       "282    [chat, UX, slow, attachment]\n",
       "283                        [OnFido]\n",
       "284                         [usage]\n",
       "285                         [usage]\n",
       "286      [notification, wrong_copy]\n",
       "Name: category, dtype: object"
      ]
     },
     "execution_count": 25,
     "metadata": {},
     "output_type": "execute_result"
    }
   ],
   "source": [
    "prep_labels.tail()"
   ]
  },
  {
   "cell_type": "markdown",
   "metadata": {},
   "source": [
    "## model learning - fasttext"
   ]
  },
  {
   "cell_type": "code",
   "execution_count": 25,
   "metadata": {},
   "outputs": [],
   "source": [
    "# texts_train,texts_val,y_train,y_val=train_test_split(prep_texts.values, prep_labels.values,\n",
    "#                                                      test_size=0.25,random_state=1, shuffle=True)"
   ]
  },
  {
   "cell_type": "code",
   "execution_count": null,
   "metadata": {},
   "outputs": [],
   "source": []
  },
  {
   "cell_type": "code",
   "execution_count": 26,
   "metadata": {},
   "outputs": [],
   "source": [
    "#save file for fasttext emb\n",
    "# pd.Series(texts_train).to_csv(os.path.join(datapath,'texts_for_emb.txt'),sep='\\n',index=False)"
   ]
  },
  {
   "cell_type": "code",
   "execution_count": 27,
   "metadata": {},
   "outputs": [],
   "source": [
    "# oversampling to boost minority classes\n",
    "# ros = RandomOverSampler(random_state=0)\n",
    "\n",
    "# texts_train, y_train = ros.fit_resample(np.reshape(texts_train, (-1, 1)),y_train)\n",
    "\n",
    "# shuffle to be sure \n",
    "# texts_train, y_train = shuffle(texts_train, y_train, random_state=0)\n",
    "\n",
    "# texts_train=texts_train.reshape(-1)"
   ]
  },
  {
   "cell_type": "code",
   "execution_count": 26,
   "metadata": {},
   "outputs": [],
   "source": [
    "# prepare files for fasstext\n",
    "def prepare_fasttext(texts, labels):\n",
    "    fasttext_set=[]\n",
    "    for i,l in enumerate(labels):\n",
    "        l=['__label__'+x for x in l]\n",
    "        labs=' '.join(l) \n",
    "        fasttext_set.append(labs + ' ' + texts[i])\n",
    "    return fasttext_set\n",
    "\n",
    "def prepare_fasttext_file(texts, labels, filename):\n",
    "    fasttext_set=prepare_fasttext(texts, labels)\n",
    "    pd.Series(fasttext_set).to_csv(os.path.join(datapath,filename),sep='\\n',index=False)\n"
   ]
  },
  {
   "cell_type": "code",
   "execution_count": 27,
   "metadata": {},
   "outputs": [],
   "source": [
    "# training & evaluation\n",
    "def train_and_evaluate(texts, labels, params):\n",
    "    print(params)\n",
    "    avg_precision = avg_recall = 0\n",
    "    fold_n=4\n",
    "    folds = KFold(n_splits=fold_n, shuffle=True, random_state=1)\n",
    "    for i, (train_index, val_index) in enumerate(folds.split(texts)):\n",
    "        tic=time.time()\n",
    "        print(f'Calculating fold {i+1}/{fold_n}...')\n",
    "        # Generate batches from indices\n",
    "        texts_train, texts_val = texts[train_index], texts[val_index]\n",
    "        y_train, y_val = labels[train_index], labels[val_index]\n",
    "        # prepare files for train and validation\n",
    "        prepare_fasttext_file(texts_train, y_train, 'fasttext_train.txt')\n",
    "        prepare_fasttext_file(texts_val, y_val, 'fasttext_val.txt')\n",
    "        # train classifier\n",
    "        classifier = fastText.train_supervised(os.path.join(datapath,'fasttext_train.txt'), **params)\n",
    "        # test classifier\n",
    "        supp,precision,recall=classifier.test(os.path.join(datapath,'fasttext_val.txt'), k=2)\n",
    "        f1=2*precision*recall/(precision+recall)\n",
    "        print(f'precision={precision:.2}, recall={recall:.2}, f1={f1:.2}')\n",
    "        avg_precision+=precision/fold_n\n",
    "        avg_recall+=recall/fold_n\n",
    "        toc=time.time()\n",
    "        # print(f'Fold {i+1} calcutated in {toc-tic}.')\n",
    "    avg_f1=2*avg_precision*avg_recall/(avg_precision+avg_recall)\n",
    "    print(f'** Average results: precision={avg_precision:.2}, recall={avg_recall:.2}, f1={avg_f1:.2}')\n",
    "    return avg_precision, avg_recall, avg_f1\n",
    "    "
   ]
  },
  {
   "cell_type": "code",
   "execution_count": 64,
   "metadata": {},
   "outputs": [
    {
     "name": "stdout",
     "output_type": "stream",
     "text": [
      "{'epoch': 10000, 'dim': 50, 'wordNgrams': 1, 'lr': 0.5}\n",
      "Calculating fold 1/4...\n",
      "precision=0.49, recall=0.54, f1=0.52\n",
      "Calculating fold 2/4...\n",
      "precision=0.46, recall=0.52, f1=0.49\n",
      "Calculating fold 3/4...\n",
      "precision=0.44, recall=0.5, f1=0.47\n",
      "Calculating fold 4/4...\n",
      "precision=0.53, recall=0.54, f1=0.53\n",
      "** Average results: precision=0.48, recall=0.52, f1=0.5\n"
     ]
    },
    {
     "data": {
      "text/plain": [
       "(0.483156804388422, 0.5239309348148878, 0.5027184550685827)"
      ]
     },
     "execution_count": 64,
     "metadata": {},
     "output_type": "execute_result"
    }
   ],
   "source": [
    "train_and_evaluate(prep_texts.values, prep_labels.values, {'epoch':10000, 'dim':50, 'wordNgrams':1, 'lr':0.5})"
   ]
  },
  {
   "cell_type": "code",
   "execution_count": 48,
   "metadata": {},
   "outputs": [],
   "source": [
    "def hyperparameters_grid_search():\n",
    "    # search space\n",
    "    epoch_list=[6000]\n",
    "    dim_list=[20,30,40,60,80,110]\n",
    "    wordNgrams_list=[1]\n",
    "    bucket_list=[2000000]\n",
    "    lr_list=[0.3,1]\n",
    "    # results\n",
    "    results=[]\n",
    "    for epoch, dim, wordNgrams, bucket, lr in [(epoch, dim, wordNgrams, bucket, lr) for epoch in epoch_list \n",
    "                                  for dim in dim_list for wordNgrams in wordNgrams_list\n",
    "                                  for bucket in bucket_list for lr in lr_list]:\n",
    "        params={'epoch':epoch, 'dim':dim, 'wordNgrams':wordNgrams, 'bucket':bucket, 'lr':lr}\n",
    "        precision, recall, f1 = train_and_evaluate(prep_texts.values, prep_labels.values, params)\n",
    "        results.append([epoch, dim, wordNgrams, bucket, lr, precision, recall, f1])\n",
    "    grid=pd.DataFrame(results, columns=['epoch', 'dim', 'wordNgrams', 'bucket', 'lr', 'precision', 'recall', 'f1'])\n",
    "    grid.to_csv(os.path.join(datapath,'grid_results.csv'),index=False)\n",
    "    return results\n"
   ]
  },
  {
   "cell_type": "code",
   "execution_count": 49,
   "metadata": {},
   "outputs": [
    {
     "name": "stdout",
     "output_type": "stream",
     "text": [
      "{'epoch': 6000, 'dim': 20, 'wordNgrams': 1, 'bucket': 2000000, 'lr': 0.3}\n",
      "Calculating fold 1/4...\n",
      "precision=0.49, recall=0.54, f1=0.52\n",
      "Calculating fold 2/4...\n",
      "precision=0.48, recall=0.54, f1=0.51\n",
      "Calculating fold 3/4...\n",
      "precision=0.43, recall=0.48, f1=0.45\n",
      "Calculating fold 4/4...\n",
      "precision=0.48, recall=0.49, f1=0.49\n",
      "** Average results: precision=0.47, recall=0.51, f1=0.49\n",
      "{'epoch': 6000, 'dim': 20, 'wordNgrams': 1, 'bucket': 2000000, 'lr': 1}\n",
      "Calculating fold 1/4...\n",
      "precision=0.48, recall=0.53, f1=0.5\n",
      "Calculating fold 2/4...\n",
      "precision=0.47, recall=0.53, f1=0.5\n",
      "Calculating fold 3/4...\n",
      "precision=0.46, recall=0.51, f1=0.49\n",
      "Calculating fold 4/4...\n",
      "precision=0.52, recall=0.52, f1=0.52\n",
      "** Average results: precision=0.48, recall=0.52, f1=0.5\n",
      "{'epoch': 6000, 'dim': 30, 'wordNgrams': 1, 'bucket': 2000000, 'lr': 0.3}\n",
      "Calculating fold 1/4...\n",
      "precision=0.49, recall=0.54, f1=0.51\n",
      "Calculating fold 2/4...\n",
      "precision=0.47, recall=0.53, f1=0.5\n",
      "Calculating fold 3/4...\n",
      "precision=0.44, recall=0.49, f1=0.46\n",
      "Calculating fold 4/4...\n",
      "precision=0.51, recall=0.51, f1=0.51\n",
      "** Average results: precision=0.48, recall=0.52, f1=0.49\n",
      "{'epoch': 6000, 'dim': 30, 'wordNgrams': 1, 'bucket': 2000000, 'lr': 1}\n",
      "Calculating fold 1/4...\n",
      "precision=0.47, recall=0.52, f1=0.49\n",
      "Calculating fold 2/4...\n",
      "precision=0.47, recall=0.53, f1=0.5\n",
      "Calculating fold 3/4...\n",
      "precision=0.45, recall=0.5, f1=0.48\n",
      "Calculating fold 4/4...\n",
      "precision=0.53, recall=0.54, f1=0.53\n",
      "** Average results: precision=0.48, recall=0.52, f1=0.5\n",
      "{'epoch': 6000, 'dim': 40, 'wordNgrams': 1, 'bucket': 2000000, 'lr': 0.3}\n",
      "Calculating fold 1/4...\n",
      "precision=0.49, recall=0.54, f1=0.52\n",
      "Calculating fold 2/4...\n",
      "precision=0.49, recall=0.54, f1=0.51\n",
      "Calculating fold 3/4...\n",
      "precision=0.42, recall=0.47, f1=0.44\n",
      "Calculating fold 4/4...\n",
      "precision=0.51, recall=0.51, f1=0.51\n",
      "** Average results: precision=0.48, recall=0.52, f1=0.5\n",
      "{'epoch': 6000, 'dim': 40, 'wordNgrams': 1, 'bucket': 2000000, 'lr': 1}\n",
      "Calculating fold 1/4...\n",
      "precision=0.46, recall=0.51, f1=0.49\n",
      "Calculating fold 2/4...\n",
      "precision=0.45, recall=0.5, f1=0.48\n",
      "Calculating fold 3/4...\n",
      "precision=0.48, recall=0.53, f1=0.5\n",
      "Calculating fold 4/4...\n",
      "precision=0.52, recall=0.52, f1=0.52\n",
      "** Average results: precision=0.48, recall=0.52, f1=0.5\n",
      "{'epoch': 6000, 'dim': 60, 'wordNgrams': 1, 'bucket': 2000000, 'lr': 0.3}\n",
      "Calculating fold 1/4...\n",
      "precision=0.49, recall=0.54, f1=0.52\n",
      "Calculating fold 2/4...\n",
      "precision=0.49, recall=0.54, f1=0.51\n",
      "Calculating fold 3/4...\n",
      "precision=0.45, recall=0.5, f1=0.48\n",
      "Calculating fold 4/4...\n",
      "precision=0.52, recall=0.52, f1=0.52\n",
      "** Average results: precision=0.49, recall=0.53, f1=0.51\n",
      "{'epoch': 6000, 'dim': 60, 'wordNgrams': 1, 'bucket': 2000000, 'lr': 1}\n",
      "Calculating fold 1/4...\n",
      "precision=0.5, recall=0.55, f1=0.53\n",
      "Calculating fold 2/4...\n",
      "precision=0.45, recall=0.5, f1=0.48\n",
      "Calculating fold 3/4...\n",
      "precision=0.46, recall=0.51, f1=0.49\n",
      "Calculating fold 4/4...\n",
      "precision=0.53, recall=0.54, f1=0.53\n",
      "** Average results: precision=0.49, recall=0.53, f1=0.51\n",
      "{'epoch': 6000, 'dim': 80, 'wordNgrams': 1, 'bucket': 2000000, 'lr': 0.3}\n",
      "Calculating fold 1/4...\n",
      "precision=0.51, recall=0.56, f1=0.53\n",
      "Calculating fold 2/4...\n",
      "precision=0.49, recall=0.54, f1=0.51\n",
      "Calculating fold 3/4...\n",
      "precision=0.41, recall=0.46, f1=0.44\n",
      "Calculating fold 4/4...\n",
      "precision=0.5, recall=0.5, f1=0.5\n",
      "** Average results: precision=0.48, recall=0.52, f1=0.5\n",
      "{'epoch': 6000, 'dim': 80, 'wordNgrams': 1, 'bucket': 2000000, 'lr': 1}\n",
      "Calculating fold 1/4...\n",
      "precision=0.47, recall=0.52, f1=0.49\n",
      "Calculating fold 2/4...\n",
      "precision=0.46, recall=0.52, f1=0.49\n",
      "Calculating fold 3/4...\n",
      "precision=0.45, recall=0.5, f1=0.48\n",
      "Calculating fold 4/4...\n",
      "precision=0.52, recall=0.53, f1=0.53\n",
      "** Average results: precision=0.48, recall=0.52, f1=0.5\n",
      "{'epoch': 6000, 'dim': 110, 'wordNgrams': 1, 'bucket': 2000000, 'lr': 0.3}\n",
      "Calculating fold 1/4...\n",
      "precision=0.5, recall=0.55, f1=0.53\n",
      "Calculating fold 2/4...\n",
      "precision=0.49, recall=0.54, f1=0.51\n",
      "Calculating fold 3/4...\n",
      "precision=0.43, recall=0.48, f1=0.45\n",
      "Calculating fold 4/4...\n",
      "precision=0.5, recall=0.5, f1=0.5\n",
      "** Average results: precision=0.48, recall=0.52, f1=0.5\n",
      "{'epoch': 6000, 'dim': 110, 'wordNgrams': 1, 'bucket': 2000000, 'lr': 1}\n",
      "Calculating fold 1/4...\n",
      "precision=0.49, recall=0.54, f1=0.52\n",
      "Calculating fold 2/4...\n",
      "precision=0.46, recall=0.51, f1=0.48\n",
      "Calculating fold 3/4...\n",
      "precision=0.47, recall=0.52, f1=0.49\n",
      "Calculating fold 4/4...\n",
      "precision=0.53, recall=0.54, f1=0.53\n",
      "** Average results: precision=0.49, recall=0.53, f1=0.51\n"
     ]
    },
    {
     "data": {
      "text/plain": [
       "[[6000,\n",
       "  20,\n",
       "  1,\n",
       "  2000000,\n",
       "  0.3,\n",
       "  0.47104122899159667,\n",
       "  0.5116951324317787,\n",
       "  0.49052729401521405],\n",
       " [6000,\n",
       "  20,\n",
       "  1,\n",
       "  2000000,\n",
       "  1,\n",
       "  0.48132805205415496,\n",
       "  0.5223536650515275,\n",
       "  0.5010023950772566],\n",
       " [6000,\n",
       "  30,\n",
       "  1,\n",
       "  2000000,\n",
       "  0.3,\n",
       "  0.4752607813958917,\n",
       "  0.51578051329813,\n",
       "  0.49469230210942106],\n",
       " [6000,\n",
       "  30,\n",
       "  1,\n",
       "  2000000,\n",
       "  1,\n",
       "  0.48141193977591035,\n",
       "  0.5220457632198091,\n",
       "  0.5009061423778137],\n",
       " [6000,\n",
       "  40,\n",
       "  1,\n",
       "  2000000,\n",
       "  0.3,\n",
       "  0.476702191293184,\n",
       "  0.5173882548622712,\n",
       "  0.4962126249096486],\n",
       " [6000,\n",
       "  40,\n",
       "  1,\n",
       "  2000000,\n",
       "  1,\n",
       "  0.4762626925770308,\n",
       "  0.516713403162183,\n",
       "  0.4956641307612974],\n",
       " [6000,\n",
       "  60,\n",
       "  1,\n",
       "  2000000,\n",
       "  0.3,\n",
       "  0.4865918242296919,\n",
       "  0.528206316321403,\n",
       "  0.506545813907187],\n",
       " [6000,\n",
       "  60,\n",
       "  1,\n",
       "  2000000,\n",
       "  1,\n",
       "  0.48539186507936505,\n",
       "  0.526388233901153,\n",
       "  0.5050594825230567],\n",
       " [6000,\n",
       "  80,\n",
       "  1,\n",
       "  2000000,\n",
       "  0.3,\n",
       "  0.4764414098972922,\n",
       "  0.5172724021951389,\n",
       "  0.4960180478600159],\n",
       " [6000,\n",
       "  80,\n",
       "  1,\n",
       "  2000000,\n",
       "  1,\n",
       "  0.47767310049019607,\n",
       "  0.5180772592828012,\n",
       "  0.49705544829829706],\n",
       " [6000,\n",
       "  110,\n",
       "  1,\n",
       "  2000000,\n",
       "  0.3,\n",
       "  0.4785714285714286,\n",
       "  0.5196646606309976,\n",
       "  0.4982722257917314],\n",
       " [6000,\n",
       "  110,\n",
       "  1,\n",
       "  2000000,\n",
       "  1,\n",
       "  0.48732347105508866,\n",
       "  0.5285681029564807,\n",
       "  0.5071085324678994]]"
      ]
     },
     "execution_count": 49,
     "metadata": {},
     "output_type": "execute_result"
    }
   ],
   "source": [
    "hyperparameters_grid_search()"
   ]
  },
  {
   "cell_type": "markdown",
   "metadata": {},
   "source": [
    "## final model training"
   ]
  },
  {
   "cell_type": "code",
   "execution_count": 65,
   "metadata": {},
   "outputs": [],
   "source": [
    "# training\n",
    "best_params = {'epoch':10000, 'dim':40, 'wordNgrams':1, 'lr':0.5}\n",
    "prepare_fasttext_file(prep_texts.values, prep_labels.values, 'fasttext_final_train.txt')\n",
    "classifier = fastText.train_supervised(os.path.join(datapath,'fasttext_final_train.txt'),**best_params)"
   ]
  },
  {
   "cell_type": "code",
   "execution_count": 66,
   "metadata": {},
   "outputs": [
    {
     "name": "stdout",
     "output_type": "stream",
     "text": [
      "Final model (on TRAIN data): precision=0.84, recall=0.92, f1=0.88\n"
     ]
    }
   ],
   "source": [
    "supp,precision,recall=classifier.test(os.path.join(datapath,'fasttext_final_train.txt'), k=2)\n",
    "f1=2*precision*recall/(precision+recall)\n",
    "print(f'Final model (on TRAIN data): precision={precision:.2}, recall={recall:.2}, f1={f1:.2}')"
   ]
  },
  {
   "cell_type": "code",
   "execution_count": 67,
   "metadata": {},
   "outputs": [],
   "source": [
    "# save finam model to file\n",
    "classifier.save_model(os.path.join(datapath,'model'))\n",
    "# use predict.py for predictions"
   ]
  },
  {
   "cell_type": "markdown",
   "metadata": {},
   "source": [
    "# ------------- backup code -------------------------"
   ]
  },
  {
   "cell_type": "code",
   "execution_count": 34,
   "metadata": {},
   "outputs": [
    {
     "ename": "AssertionError",
     "evalue": "",
     "output_type": "error",
     "traceback": [
      "\u001b[0;31m---------------------------------------------------------------------------\u001b[0m",
      "\u001b[0;31mAssertionError\u001b[0m                            Traceback (most recent call last)",
      "\u001b[0;32m<ipython-input-34-6742f22e27ea>\u001b[0m in \u001b[0;36m<module>\u001b[0;34m\u001b[0m\n\u001b[0;32m----> 1\u001b[0;31m \u001b[0;32massert\u001b[0m \u001b[0;32mFalse\u001b[0m \u001b[0;31m# stop code execution here\u001b[0m\u001b[0;34m\u001b[0m\u001b[0;34m\u001b[0m\u001b[0m\n\u001b[0m",
      "\u001b[0;31mAssertionError\u001b[0m: "
     ]
    }
   ],
   "source": [
    "assert False # stop code execution here"
   ]
  },
  {
   "cell_type": "markdown",
   "metadata": {},
   "source": [
    "## result analysis"
   ]
  },
  {
   "cell_type": "code",
   "execution_count": 68,
   "metadata": {},
   "outputs": [],
   "source": [
    "def hamming_score(y_true, y_pred, normalize=True, sample_weight=None):\n",
    "    '''\n",
    "    Compute the Hamming score (a.k.a. label-based accuracy) for the multi-label case\n",
    "    http://stackoverflow.com/q/32239577/395857\n",
    "    '''\n",
    "    acc_list = []\n",
    "    for i in range(y_true.shape[0]):\n",
    "        set_true = set( np.where(y_true[i])[0] )\n",
    "        set_pred = set( np.where(y_pred[i])[0] )\n",
    "        tmp_a = None\n",
    "        if len(set_true) == 0 and len(set_pred) == 0:\n",
    "            tmp_a = 1\n",
    "        else:\n",
    "            tmp_a = len(set_true.intersection(set_pred))/float(len(set_true.union(set_pred)) )\n",
    "        acc_list.append(tmp_a)\n",
    "    return np.mean(acc_list)"
   ]
  },
  {
   "cell_type": "code",
   "execution_count": 69,
   "metadata": {},
   "outputs": [
    {
     "ename": "NameError",
     "evalue": "name 'y_train' is not defined",
     "output_type": "error",
     "traceback": [
      "\u001b[0;31m---------------------------------------------------------------------------\u001b[0m",
      "\u001b[0;31mNameError\u001b[0m                                 Traceback (most recent call last)",
      "\u001b[0;32m<ipython-input-69-1dba6417f84c>\u001b[0m in \u001b[0;36m<module>\u001b[0;34m\u001b[0m\n\u001b[1;32m      1\u001b[0m \u001b[0;31m# binarize labels in validation set\u001b[0m\u001b[0;34m\u001b[0m\u001b[0;34m\u001b[0m\u001b[0;34m\u001b[0m\u001b[0m\n\u001b[1;32m      2\u001b[0m \u001b[0mmlb\u001b[0m \u001b[0;34m=\u001b[0m \u001b[0mMultiLabelBinarizer\u001b[0m\u001b[0;34m(\u001b[0m\u001b[0;34m)\u001b[0m\u001b[0;34m\u001b[0m\u001b[0;34m\u001b[0m\u001b[0m\n\u001b[0;32m----> 3\u001b[0;31m \u001b[0mmlb\u001b[0m\u001b[0;34m.\u001b[0m\u001b[0mfit\u001b[0m\u001b[0;34m(\u001b[0m\u001b[0my_train\u001b[0m\u001b[0;34m)\u001b[0m\u001b[0;34m\u001b[0m\u001b[0;34m\u001b[0m\u001b[0m\n\u001b[0m\u001b[1;32m      4\u001b[0m \u001b[0my_val_bin\u001b[0m \u001b[0;34m=\u001b[0m \u001b[0mmlb\u001b[0m\u001b[0;34m.\u001b[0m\u001b[0mtransform\u001b[0m\u001b[0;34m(\u001b[0m\u001b[0my_val\u001b[0m\u001b[0;34m)\u001b[0m\u001b[0;34m\u001b[0m\u001b[0;34m\u001b[0m\u001b[0m\n",
      "\u001b[0;31mNameError\u001b[0m: name 'y_train' is not defined"
     ]
    }
   ],
   "source": [
    "# binarize labels in validation set\n",
    "mlb = MultiLabelBinarizer()\n",
    "mlb.fit(y_train)\n",
    "y_val_bin = mlb.transform(y_val)"
   ]
  },
  {
   "cell_type": "code",
   "execution_count": null,
   "metadata": {},
   "outputs": [],
   "source": [
    "mlb.classes_"
   ]
  },
  {
   "cell_type": "code",
   "execution_count": null,
   "metadata": {},
   "outputs": [],
   "source": [
    "def make_predictions(clf, texts, threshold=0.5, k=5):\n",
    "    predicted_labels=[]\n",
    "    predicted_probs=[]\n",
    "    for t in texts:\n",
    "        # print(f't: {t}')\n",
    "        cleared_labels=[]\n",
    "        cleared_probs=[]\n",
    "        labels, probs = clf.predict(t,k=k,threshold=0)\n",
    "        for i,l in enumerate(labels):\n",
    "            if probs[i]>=threshold:\n",
    "                cleared_labels.append(l.replace('__label__',''))\n",
    "                cleared_probs.append(probs[i])\n",
    "        predicted_labels.append(cleared_labels)\n",
    "        predicted_probs.append(cleared_probs)\n",
    "    return predicted_labels, predicted_probs"
   ]
  },
  {
   "cell_type": "code",
   "execution_count": null,
   "metadata": {},
   "outputs": [],
   "source": [
    "pred_labels, pred_probs = make_predictions(classifier, texts_val, threshold=0.4, k=5)"
   ]
  },
  {
   "cell_type": "code",
   "execution_count": null,
   "metadata": {},
   "outputs": [],
   "source": [
    "y_val_preds=mlb.transform(pred_labels)"
   ]
  },
  {
   "cell_type": "code",
   "execution_count": null,
   "metadata": {},
   "outputs": [],
   "source": [
    "print(y_val_bin[0])\n",
    "print(y_val_preds[0])"
   ]
  },
  {
   "cell_type": "code",
   "execution_count": null,
   "metadata": {},
   "outputs": [],
   "source": [
    "print(f\"Hamming loss: {hamming_loss(y_val_bin, y_val_preds)}\")\n",
    "print(f\"Hamming score: {hamming_score(y_val_bin, y_val_preds)}\")"
   ]
  },
  {
   "cell_type": "markdown",
   "metadata": {},
   "source": [
    "## fasttext internal test"
   ]
  },
  {
   "cell_type": "code",
   "execution_count": 70,
   "metadata": {},
   "outputs": [],
   "source": [
    "result=classifier.test(os.path.join(datapath,'fasttext_val.txt'),k=5)"
   ]
  },
  {
   "cell_type": "code",
   "execution_count": 71,
   "metadata": {},
   "outputs": [
    {
     "data": {
      "text/plain": [
       "(64, 0.396875, 1.0)"
      ]
     },
     "execution_count": 71,
     "metadata": {},
     "output_type": "execute_result"
    }
   ],
   "source": [
    "result"
   ]
  },
  {
   "cell_type": "code",
   "execution_count": 72,
   "metadata": {},
   "outputs": [],
   "source": [
    "result=classifier.test_label(os.path.join(datapath,'fasttext_val.txt'),k=5)"
   ]
  },
  {
   "cell_type": "code",
   "execution_count": 73,
   "metadata": {},
   "outputs": [
    {
     "data": {
      "text/plain": [
       "{'__label__incorrect_execution': {'precision': 0.5,\n",
       "  'recall': 1.0,\n",
       "  'f1score': 0.6666666666666666},\n",
       " '__label__call-barring': {'precision': 0.1111111111111111,\n",
       "  'recall': 1.0,\n",
       "  'f1score': 0.2},\n",
       " '__label__call': {'precision': 0.0, 'recall': nan, 'f1score': 0.0},\n",
       " '__label__notification_center': {'precision': 0.09090909090909091,\n",
       "  'recall': 1.0,\n",
       "  'f1score': 0.16666666666666666},\n",
       " '__label__activation': {'precision': 0.5,\n",
       "  'recall': 1.0,\n",
       "  'f1score': 0.6666666666666666},\n",
       " '__label__wrong_content': {'precision': 0.13333333333333333,\n",
       "  'recall': 1.0,\n",
       "  'f1score': 0.23529411764705882},\n",
       " '__label__attachment': {'precision': 0.4,\n",
       "  'recall': 1.0,\n",
       "  'f1score': 0.5714285714285714},\n",
       " '__label__logistic': {'precision': 0.6666666666666666,\n",
       "  'recall': 1.0,\n",
       "  'f1score': 0.8},\n",
       " '__label__slow': {'precision': 0.2222222222222222,\n",
       "  'recall': 1.0,\n",
       "  'f1score': 0.36363636363636365},\n",
       " '__label__UX': {'precision': 0.6756756756756757,\n",
       "  'recall': 1.0,\n",
       "  'f1score': 0.8064516129032258},\n",
       " '__label__usage': {'precision': 0.5714285714285714,\n",
       "  'recall': 1.0,\n",
       "  'f1score': 0.7272727272727273},\n",
       " '__label__error': {'precision': 0.16666666666666666,\n",
       "  'recall': 1.0,\n",
       "  'f1score': 0.2857142857142857},\n",
       " '__label__chat': {'precision': 0.5,\n",
       "  'recall': 1.0,\n",
       "  'f1score': 0.6666666666666666},\n",
       " '__label__wrong_copy': {'precision': 0.21212121212121213,\n",
       "  'recall': 1.0,\n",
       "  'f1score': 0.35},\n",
       " '__label__dashboard': {'precision': 0.5454545454545454,\n",
       "  'recall': 1.0,\n",
       "  'f1score': 0.7058823529411765},\n",
       " '__label__VAS': {'precision': 0.18181818181818182,\n",
       "  'recall': 1.0,\n",
       "  'f1score': 0.3076923076923077},\n",
       " '__label__no_notification': {'precision': 0.35294117647058826,\n",
       "  'recall': 1.0,\n",
       "  'f1score': 0.5217391304347826},\n",
       " '__label__payments': {'precision': 0.5,\n",
       "  'recall': 1.0,\n",
       "  'f1score': 0.6666666666666666},\n",
       " '__label__data_transmission': {'precision': 0.4666666666666667,\n",
       "  'recall': 1.0,\n",
       "  'f1score': 0.6363636363636364},\n",
       " '__label__app': {'precision': 0.125,\n",
       "  'recall': 1.0,\n",
       "  'f1score': 0.2222222222222222},\n",
       " '__label__network': {'precision': 0.8888888888888888,\n",
       "  'recall': 1.0,\n",
       "  'f1score': 0.9411764705882353},\n",
       " '__label__notification': {'precision': 0.6538461538461539,\n",
       "  'recall': 1.0,\n",
       "  'f1score': 0.7906976744186046},\n",
       " '__label__MNP': {'precision': 0.375,\n",
       "  'recall': 1.0,\n",
       "  'f1score': 0.5454545454545454},\n",
       " '__label__OnFido': {'precision': 0.4,\n",
       "  'recall': 1.0,\n",
       "  'f1score': 0.5714285714285714},\n",
       " '__label__payment': {'precision': 0.5,\n",
       "  'recall': 1.0,\n",
       "  'f1score': 0.6666666666666666},\n",
       " '__label__layout': {'precision': 0.1875,\n",
       "  'recall': 1.0,\n",
       "  'f1score': 0.3157894736842105},\n",
       " '__label__QR_scan': {'precision': 0.4,\n",
       "  'recall': 1.0,\n",
       "  'f1score': 0.5714285714285714}}"
      ]
     },
     "execution_count": 73,
     "metadata": {},
     "output_type": "execute_result"
    }
   ],
   "source": [
    "result"
   ]
  },
  {
   "cell_type": "markdown",
   "metadata": {},
   "source": [
    "## predictions"
   ]
  },
  {
   "cell_type": "code",
   "execution_count": null,
   "metadata": {},
   "outputs": [],
   "source": [
    "texts_test=pd.read_csv(os.path.join(datapath,'fasttest_test.txt'), header=None)\n",
    "test_set=preprocess_texts(texts_test[0],podmiany)"
   ]
  },
  {
   "cell_type": "code",
   "execution_count": null,
   "metadata": {},
   "outputs": [],
   "source": [
    "test_set.values.shape"
   ]
  },
  {
   "cell_type": "code",
   "execution_count": null,
   "metadata": {},
   "outputs": [],
   "source": [
    "def make_formatted_predictions(clf, texts):\n",
    "    predictions=[]\n",
    "    for t in texts:\n",
    "        labels, probs = clf.predict(t,k=5,threshold=0.1)\n",
    "        result_line=''\n",
    "        # print(f'labels:{labels}')\n",
    "        # print(f'probs:{probs}')\n",
    "        for i,l in enumerate(labels):\n",
    "            # print(f'i:{i} l:{l} probs[i]:{probs[i]}')\n",
    "            l=l.replace('__label__','')\n",
    "            result_line+=l + ': ' + str(probs[i]) + '; '\n",
    "        # print(f'result_line: {result_line}')\n",
    "        predictions.append(result_line)\n",
    "    return predictions\n",
    "    "
   ]
  },
  {
   "cell_type": "code",
   "execution_count": null,
   "metadata": {},
   "outputs": [],
   "source": [
    "result = make_formatted_predictions(classifier, test_set.values)"
   ]
  },
  {
   "cell_type": "code",
   "execution_count": null,
   "metadata": {},
   "outputs": [],
   "source": [
    "pd.Series(result).to_csv(os.path.join(datapath,'predictions.csv'),index=False)"
   ]
  },
  {
   "cell_type": "code",
   "execution_count": null,
   "metadata": {},
   "outputs": [],
   "source": []
  }
 ],
 "metadata": {
  "kernelspec": {
   "display_name": "Python 3",
   "language": "python",
   "name": "python3"
  },
  "language_info": {
   "codemirror_mode": {
    "name": "ipython",
    "version": 3
   },
   "file_extension": ".py",
   "mimetype": "text/x-python",
   "name": "python",
   "nbconvert_exporter": "python",
   "pygments_lexer": "ipython3",
   "version": "3.6.8"
  }
 },
 "nbformat": 4,
 "nbformat_minor": 2
}
